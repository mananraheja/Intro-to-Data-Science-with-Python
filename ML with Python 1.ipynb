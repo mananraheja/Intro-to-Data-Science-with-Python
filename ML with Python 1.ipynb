{
 "cells": [
  {
   "cell_type": "markdown",
   "metadata": {},
   "source": [
    "# Introduction to Data Analytics with Python"
   ]
  },
  {
   "cell_type": "markdown",
   "metadata": {},
   "source": [
    "# Using DataFrames and Arrays with numpy and pandas"
   ]
  },
  {
   "cell_type": "code",
   "execution_count": 2,
   "metadata": {},
   "outputs": [
    {
     "name": "stdout",
     "output_type": "stream",
     "text": [
      "   one  two  three\n",
      "a    1    2      3\n",
      "b    4    5      6\n"
     ]
    }
   ],
   "source": [
    "#dataframe\n",
    "import numpy\n",
    "import pandas\n",
    "myarray = numpy.array([[1, 2, 3], [4, 5, 6]])\n",
    "rownames = ['a', 'b']\n",
    "colnames = ['one', 'two', 'three']\n",
    "mydataframe = pandas.DataFrame(myarray, index=rownames, columns=colnames)\n",
    "print(mydataframe)"
   ]
  },
  {
   "cell_type": "markdown",
   "metadata": {},
   "source": [
    "# Load CSV using Pandas from URL"
   ]
  },
  {
   "cell_type": "code",
   "execution_count": 8,
   "metadata": {},
   "outputs": [
    {
     "name": "stdout",
     "output_type": "stream",
     "text": [
      "     Min  Max  Mean   SD Class Correlation\n",
      "0    5.1  3.5   1.4  0.2       Iris-setosa\n",
      "1    4.9  3.0   1.4  0.2       Iris-setosa\n",
      "2    4.7  3.2   1.3  0.2       Iris-setosa\n",
      "3    4.6  3.1   1.5  0.2       Iris-setosa\n",
      "4    5.0  3.6   1.4  0.2       Iris-setosa\n",
      "5    5.4  3.9   1.7  0.4       Iris-setosa\n",
      "6    4.6  3.4   1.4  0.3       Iris-setosa\n",
      "7    5.0  3.4   1.5  0.2       Iris-setosa\n",
      "8    4.4  2.9   1.4  0.2       Iris-setosa\n",
      "9    4.9  3.1   1.5  0.1       Iris-setosa\n",
      "10   5.4  3.7   1.5  0.2       Iris-setosa\n",
      "11   4.8  3.4   1.6  0.2       Iris-setosa\n",
      "12   4.8  3.0   1.4  0.1       Iris-setosa\n",
      "13   4.3  3.0   1.1  0.1       Iris-setosa\n",
      "14   5.8  4.0   1.2  0.2       Iris-setosa\n",
      "15   5.7  4.4   1.5  0.4       Iris-setosa\n",
      "16   5.4  3.9   1.3  0.4       Iris-setosa\n",
      "17   5.1  3.5   1.4  0.3       Iris-setosa\n",
      "18   5.7  3.8   1.7  0.3       Iris-setosa\n",
      "19   5.1  3.8   1.5  0.3       Iris-setosa\n",
      "20   5.4  3.4   1.7  0.2       Iris-setosa\n",
      "21   5.1  3.7   1.5  0.4       Iris-setosa\n",
      "22   4.6  3.6   1.0  0.2       Iris-setosa\n",
      "23   5.1  3.3   1.7  0.5       Iris-setosa\n",
      "24   4.8  3.4   1.9  0.2       Iris-setosa\n",
      "25   5.0  3.0   1.6  0.2       Iris-setosa\n",
      "26   5.0  3.4   1.6  0.4       Iris-setosa\n",
      "27   5.2  3.5   1.5  0.2       Iris-setosa\n",
      "28   5.2  3.4   1.4  0.2       Iris-setosa\n",
      "29   4.7  3.2   1.6  0.2       Iris-setosa\n",
      "..   ...  ...   ...  ...               ...\n",
      "120  6.9  3.2   5.7  2.3    Iris-virginica\n",
      "121  5.6  2.8   4.9  2.0    Iris-virginica\n",
      "122  7.7  2.8   6.7  2.0    Iris-virginica\n",
      "123  6.3  2.7   4.9  1.8    Iris-virginica\n",
      "124  6.7  3.3   5.7  2.1    Iris-virginica\n",
      "125  7.2  3.2   6.0  1.8    Iris-virginica\n",
      "126  6.2  2.8   4.8  1.8    Iris-virginica\n",
      "127  6.1  3.0   4.9  1.8    Iris-virginica\n",
      "128  6.4  2.8   5.6  2.1    Iris-virginica\n",
      "129  7.2  3.0   5.8  1.6    Iris-virginica\n",
      "130  7.4  2.8   6.1  1.9    Iris-virginica\n",
      "131  7.9  3.8   6.4  2.0    Iris-virginica\n",
      "132  6.4  2.8   5.6  2.2    Iris-virginica\n",
      "133  6.3  2.8   5.1  1.5    Iris-virginica\n",
      "134  6.1  2.6   5.6  1.4    Iris-virginica\n",
      "135  7.7  3.0   6.1  2.3    Iris-virginica\n",
      "136  6.3  3.4   5.6  2.4    Iris-virginica\n",
      "137  6.4  3.1   5.5  1.8    Iris-virginica\n",
      "138  6.0  3.0   4.8  1.8    Iris-virginica\n",
      "139  6.9  3.1   5.4  2.1    Iris-virginica\n",
      "140  6.7  3.1   5.6  2.4    Iris-virginica\n",
      "141  6.9  3.1   5.1  2.3    Iris-virginica\n",
      "142  5.8  2.7   5.1  1.9    Iris-virginica\n",
      "143  6.8  3.2   5.9  2.3    Iris-virginica\n",
      "144  6.7  3.3   5.7  2.5    Iris-virginica\n",
      "145  6.7  3.0   5.2  2.3    Iris-virginica\n",
      "146  6.3  2.5   5.0  1.9    Iris-virginica\n",
      "147  6.5  3.0   5.2  2.0    Iris-virginica\n",
      "148  6.2  3.4   5.4  2.3    Iris-virginica\n",
      "149  5.9  3.0   5.1  1.8    Iris-virginica\n",
      "\n",
      "[150 rows x 5 columns]\n",
      "(150, 5)\n"
     ]
    }
   ],
   "source": [
    "#load CSV using Pandas from URL\n",
    "from pandas import read_csv\n",
    "url = \"http://archive.ics.uci.edu/ml/machine-learning-databases/iris/iris.data\"\n",
    "names = ['Min', 'Max', 'Mean', 'SD', 'Class Correlation']\n",
    "data = read_csv(url, names=names)\n",
    "print(data)\n",
    "print(data.shape)"
   ]
  },
  {
   "cell_type": "markdown",
   "metadata": {},
   "source": [
    "# Viewing first 20 rows of data"
   ]
  },
  {
   "cell_type": "code",
   "execution_count": 15,
   "metadata": {},
   "outputs": [
    {
     "name": "stdout",
     "output_type": "stream",
     "text": [
      "    Min  Max  Mean   SD Class Correlation\n",
      "0   5.1  3.5   1.4  0.2       Iris-setosa\n",
      "1   4.9  3.0   1.4  0.2       Iris-setosa\n",
      "2   4.7  3.2   1.3  0.2       Iris-setosa\n",
      "3   4.6  3.1   1.5  0.2       Iris-setosa\n",
      "4   5.0  3.6   1.4  0.2       Iris-setosa\n",
      "5   5.4  3.9   1.7  0.4       Iris-setosa\n",
      "6   4.6  3.4   1.4  0.3       Iris-setosa\n",
      "7   5.0  3.4   1.5  0.2       Iris-setosa\n",
      "8   4.4  2.9   1.4  0.2       Iris-setosa\n",
      "9   4.9  3.1   1.5  0.1       Iris-setosa\n",
      "10  5.4  3.7   1.5  0.2       Iris-setosa\n",
      "11  4.8  3.4   1.6  0.2       Iris-setosa\n",
      "12  4.8  3.0   1.4  0.1       Iris-setosa\n",
      "13  4.3  3.0   1.1  0.1       Iris-setosa\n",
      "14  5.8  4.0   1.2  0.2       Iris-setosa\n",
      "15  5.7  4.4   1.5  0.4       Iris-setosa\n",
      "16  5.4  3.9   1.3  0.4       Iris-setosa\n",
      "17  5.1  3.5   1.4  0.3       Iris-setosa\n",
      "18  5.7  3.8   1.7  0.3       Iris-setosa\n",
      "19  5.1  3.8   1.5  0.3       Iris-setosa\n"
     ]
    }
   ],
   "source": [
    "from pandas import read_csv\n",
    "url = \"http://archive.ics.uci.edu/ml/machine-learning-databases/iris/iris.data\"\n",
    "names = ['Min', 'Max', 'Mean', 'SD', 'Class Correlation']\n",
    "data = read_csv(url, names=names)\n",
    "peek = data.head(20)\n",
    "print (peek)"
   ]
  },
  {
   "cell_type": "markdown",
   "metadata": {},
   "source": [
    "# Datatypes for each attribute"
   ]
  },
  {
   "cell_type": "code",
   "execution_count": 9,
   "metadata": {
    "scrolled": true
   },
   "outputs": [
    {
     "name": "stdout",
     "output_type": "stream",
     "text": [
      "     Min  Max  Mean   SD Class Correlation\n",
      "0    5.1  3.5   1.4  0.2       Iris-setosa\n",
      "1    4.9  3.0   1.4  0.2       Iris-setosa\n",
      "2    4.7  3.2   1.3  0.2       Iris-setosa\n",
      "3    4.6  3.1   1.5  0.2       Iris-setosa\n",
      "4    5.0  3.6   1.4  0.2       Iris-setosa\n",
      "5    5.4  3.9   1.7  0.4       Iris-setosa\n",
      "6    4.6  3.4   1.4  0.3       Iris-setosa\n",
      "7    5.0  3.4   1.5  0.2       Iris-setosa\n",
      "8    4.4  2.9   1.4  0.2       Iris-setosa\n",
      "9    4.9  3.1   1.5  0.1       Iris-setosa\n",
      "10   5.4  3.7   1.5  0.2       Iris-setosa\n",
      "11   4.8  3.4   1.6  0.2       Iris-setosa\n",
      "12   4.8  3.0   1.4  0.1       Iris-setosa\n",
      "13   4.3  3.0   1.1  0.1       Iris-setosa\n",
      "14   5.8  4.0   1.2  0.2       Iris-setosa\n",
      "15   5.7  4.4   1.5  0.4       Iris-setosa\n",
      "16   5.4  3.9   1.3  0.4       Iris-setosa\n",
      "17   5.1  3.5   1.4  0.3       Iris-setosa\n",
      "18   5.7  3.8   1.7  0.3       Iris-setosa\n",
      "19   5.1  3.8   1.5  0.3       Iris-setosa\n",
      "20   5.4  3.4   1.7  0.2       Iris-setosa\n",
      "21   5.1  3.7   1.5  0.4       Iris-setosa\n",
      "22   4.6  3.6   1.0  0.2       Iris-setosa\n",
      "23   5.1  3.3   1.7  0.5       Iris-setosa\n",
      "24   4.8  3.4   1.9  0.2       Iris-setosa\n",
      "25   5.0  3.0   1.6  0.2       Iris-setosa\n",
      "26   5.0  3.4   1.6  0.4       Iris-setosa\n",
      "27   5.2  3.5   1.5  0.2       Iris-setosa\n",
      "28   5.2  3.4   1.4  0.2       Iris-setosa\n",
      "29   4.7  3.2   1.6  0.2       Iris-setosa\n",
      "..   ...  ...   ...  ...               ...\n",
      "120  6.9  3.2   5.7  2.3    Iris-virginica\n",
      "121  5.6  2.8   4.9  2.0    Iris-virginica\n",
      "122  7.7  2.8   6.7  2.0    Iris-virginica\n",
      "123  6.3  2.7   4.9  1.8    Iris-virginica\n",
      "124  6.7  3.3   5.7  2.1    Iris-virginica\n",
      "125  7.2  3.2   6.0  1.8    Iris-virginica\n",
      "126  6.2  2.8   4.8  1.8    Iris-virginica\n",
      "127  6.1  3.0   4.9  1.8    Iris-virginica\n",
      "128  6.4  2.8   5.6  2.1    Iris-virginica\n",
      "129  7.2  3.0   5.8  1.6    Iris-virginica\n",
      "130  7.4  2.8   6.1  1.9    Iris-virginica\n",
      "131  7.9  3.8   6.4  2.0    Iris-virginica\n",
      "132  6.4  2.8   5.6  2.2    Iris-virginica\n",
      "133  6.3  2.8   5.1  1.5    Iris-virginica\n",
      "134  6.1  2.6   5.6  1.4    Iris-virginica\n",
      "135  7.7  3.0   6.1  2.3    Iris-virginica\n",
      "136  6.3  3.4   5.6  2.4    Iris-virginica\n",
      "137  6.4  3.1   5.5  1.8    Iris-virginica\n",
      "138  6.0  3.0   4.8  1.8    Iris-virginica\n",
      "139  6.9  3.1   5.4  2.1    Iris-virginica\n",
      "140  6.7  3.1   5.6  2.4    Iris-virginica\n",
      "141  6.9  3.1   5.1  2.3    Iris-virginica\n",
      "142  5.8  2.7   5.1  1.9    Iris-virginica\n",
      "143  6.8  3.2   5.9  2.3    Iris-virginica\n",
      "144  6.7  3.3   5.7  2.5    Iris-virginica\n",
      "145  6.7  3.0   5.2  2.3    Iris-virginica\n",
      "146  6.3  2.5   5.0  1.9    Iris-virginica\n",
      "147  6.5  3.0   5.2  2.0    Iris-virginica\n",
      "148  6.2  3.4   5.4  2.3    Iris-virginica\n",
      "149  5.9  3.0   5.1  1.8    Iris-virginica\n",
      "\n",
      "[150 rows x 5 columns]\n",
      "Min                  float64\n",
      "Max                  float64\n",
      "Mean                 float64\n",
      "SD                   float64\n",
      "Class Correlation     object\n",
      "dtype: object\n"
     ]
    }
   ],
   "source": [
    "#load CSV using Pandas from URL\n",
    "from pandas import read_csv\n",
    "url = \"http://archive.ics.uci.edu/ml/machine-learning-databases/iris/iris.data\"\n",
    "names = ['Min', 'Max', 'Mean', 'SD', 'Class Correlation']\n",
    "data = read_csv(url, names=names)\n",
    "print(data)\n",
    "types = data.dtypes\n",
    "print(types)"
   ]
  },
  {
   "cell_type": "markdown",
   "metadata": {},
   "source": [
    "# Statistical Summary"
   ]
  },
  {
   "cell_type": "code",
   "execution_count": 10,
   "metadata": {},
   "outputs": [
    {
     "name": "stdout",
     "output_type": "stream",
     "text": [
      "           Min      Max     Mean       SD\n",
      "count  150.000  150.000  150.000  150.000\n",
      "mean     5.843    3.054    3.759    1.199\n",
      "std      0.828    0.434    1.764    0.763\n",
      "min      4.300    2.000    1.000    0.100\n",
      "25%      5.100    2.800    1.600    0.300\n",
      "50%      5.800    3.000    4.350    1.300\n",
      "75%      6.400    3.300    5.100    1.800\n",
      "max      7.900    4.400    6.900    2.500\n"
     ]
    }
   ],
   "source": [
    "# Statistical Summary\n",
    "from pandas import read_csv\n",
    "from pandas import set_option\n",
    "url = \"http://archive.ics.uci.edu/ml/machine-learning-databases/iris/iris.data\"\n",
    "names = ['Min', 'Max', 'Mean', 'SD', 'Class Correlation']\n",
    "data = read_csv(url, names=names)\n",
    "set_option('display.width', 100)\n",
    "set_option('precision', 3)\n",
    "description = data.describe()\n",
    "print(description)"
   ]
  },
  {
   "cell_type": "markdown",
   "metadata": {},
   "source": [
    "# Class Distribution"
   ]
  },
  {
   "cell_type": "code",
   "execution_count": 13,
   "metadata": {
    "scrolled": true
   },
   "outputs": [
    {
     "name": "stdout",
     "output_type": "stream",
     "text": [
      "Max\n",
      "2.0     1\n",
      "2.2     3\n",
      "2.3     4\n",
      "2.4     3\n",
      "2.5     8\n",
      "2.6     5\n",
      "2.7     9\n",
      "2.8    14\n",
      "2.9    10\n",
      "3.0    26\n",
      "3.1    12\n",
      "3.2    13\n",
      "3.3     6\n",
      "3.4    12\n",
      "3.5     6\n",
      "3.6     3\n",
      "3.7     3\n",
      "3.8     6\n",
      "3.9     2\n",
      "4.0     1\n",
      "4.1     1\n",
      "4.2     1\n",
      "4.4     1\n",
      "dtype: int64\n"
     ]
    }
   ],
   "source": [
    "# Class Distribution example\n",
    "from pandas import read_csv\n",
    "url = \"http://archive.ics.uci.edu/ml/machine-learning-databases/iris/iris.data\"\n",
    "names = ['Min', 'Max', 'Mean', 'SD', 'Class Correlation']\n",
    "data = read_csv(url, names=names)\n",
    "class_counts = data.groupby('Max').size()\n",
    "print(class_counts)"
   ]
  },
  {
   "cell_type": "markdown",
   "metadata": {},
   "source": [
    "# Pairwise Pearson's Coefficient"
   ]
  },
  {
   "cell_type": "code",
   "execution_count": 16,
   "metadata": {},
   "outputs": [
    {
     "name": "stdout",
     "output_type": "stream",
     "text": [
      "        Min    Max   Mean     SD\n",
      "Min   1.000 -0.109  0.872  0.818\n",
      "Max  -0.109  1.000 -0.421 -0.357\n",
      "Mean  0.872 -0.421  1.000  0.963\n",
      "SD    0.818 -0.357  0.963  1.000\n"
     ]
    }
   ],
   "source": [
    "# Pairwise Pearson's Coefficient\n",
    "from pandas import read_csv\n",
    "from pandas import set_option\n",
    "url = \"http://archive.ics.uci.edu/ml/machine-learning-databases/iris/iris.data\"\n",
    "names = ['Min', 'Max', 'Mean', 'SD', 'Class Correlation']\n",
    "data = read_csv(url, names=names)\n",
    "set_option('display.width', 100)\n",
    "set_option('precision', 3)\n",
    "correlations = data.corr(method='pearson')\n",
    "print(correlations)"
   ]
  },
  {
   "cell_type": "markdown",
   "metadata": {},
   "source": [
    "# Skew of Univariate Distributions"
   ]
  },
  {
   "cell_type": "code",
   "execution_count": 17,
   "metadata": {},
   "outputs": [
    {
     "name": "stdout",
     "output_type": "stream",
     "text": [
      "Min     0.315\n",
      "Max     0.334\n",
      "Mean   -0.274\n",
      "SD     -0.105\n",
      "dtype: float64\n"
     ]
    }
   ],
   "source": [
    "from pandas import read_csv\n",
    "url = \"http://archive.ics.uci.edu/ml/machine-learning-databases/iris/iris.data\"\n",
    "names = ['Min', 'Max', 'Mean', 'SD', 'Class Correlation']\n",
    "data = read_csv(url, names=names)\n",
    "skew = data.skew()\n",
    "print(skew)"
   ]
  },
  {
   "cell_type": "markdown",
   "metadata": {},
   "source": [
    "# Rescale datasets"
   ]
  },
  {
   "cell_type": "code",
   "execution_count": 23,
   "metadata": {},
   "outputs": [
    {
     "name": "stdout",
     "output_type": "stream",
     "text": [
      "[[0.222 0.625 0.068 0.042]\n",
      " [0.167 0.417 0.068 0.042]\n",
      " [0.111 0.5   0.051 0.042]\n",
      " [0.083 0.458 0.085 0.042]\n",
      " [0.194 0.667 0.068 0.042]]\n"
     ]
    }
   ],
   "source": [
    "# Rescale data (between 0 and 1)\n",
    "from pandas import read_csv\n",
    "from numpy import set_printoptions\n",
    "from sklearn.preprocessing import MinMaxScaler\n",
    "url = \"http://archive.ics.uci.edu/ml/machine-learning-databases/iris/iris.data\"\n",
    "names = ['Min', 'Max', 'Mean', 'SD', 'Class Correlation']\n",
    "data = read_csv(url, names=names)\n",
    "array = data.values\n",
    "# Separate data into input and output components\n",
    "X = array[: ,0:4]\n",
    "Y = array[: ,4]\n",
    "scaler = MinMaxScaler(feature_range=(0, 1))\n",
    "rescaled_X = scaler.fit_transform(X)\n",
    "# Summarize transformed data\n",
    "set_printoptions(precision=3)\n",
    "print(rescaled_X[0:5,:])"
   ]
  },
  {
   "cell_type": "markdown",
   "metadata": {},
   "source": [
    "# Standardize Data"
   ]
  },
  {
   "cell_type": "code",
   "execution_count": 24,
   "metadata": {},
   "outputs": [
    {
     "name": "stdout",
     "output_type": "stream",
     "text": [
      "[[-0.901  1.032 -1.341 -1.313]\n",
      " [-1.143 -0.125 -1.341 -1.313]\n",
      " [-1.385  0.338 -1.398 -1.313]\n",
      " [-1.507  0.106 -1.284 -1.313]\n",
      " [-1.022  1.263 -1.341 -1.313]]\n"
     ]
    },
    {
     "name": "stderr",
     "output_type": "stream",
     "text": [
      "/usr/local/lib/python2.7/dist-packages/sklearn/utils/validation.py:475: DataConversionWarning: Data with input dtype object was converted to float64 by StandardScaler.\n",
      "  warnings.warn(msg, DataConversionWarning)\n"
     ]
    }
   ],
   "source": [
    "#Standardize data (0 mean, 1 stdev)\n",
    "from sklearn.preprocessing import StandardScaler\n",
    "from pandas import read_csv\n",
    "from numpy import set_printoptions\n",
    "url = \"http://archive.ics.uci.edu/ml/machine-learning-databases/iris/iris.data\"\n",
    "names = ['Min', 'Max', 'Mean', 'SD', 'Class Correlation']\n",
    "data = read_csv(url, names=names)\n",
    "array = data.values\n",
    "# Separate data into input and output components\n",
    "X = array[: ,0:4]\n",
    "Y = array[: ,4]\n",
    "scaler = StandardScaler().fit(X)\n",
    "rescaled_X = scaler.transform(X)\n",
    "# Summarize transformed data\n",
    "set_printoptions(precision=3)\n",
    "print(rescaled_X[0:5,:])"
   ]
  },
  {
   "cell_type": "markdown",
   "metadata": {},
   "source": [
    "# Normalize Data"
   ]
  },
  {
   "cell_type": "code",
   "execution_count": 25,
   "metadata": {},
   "outputs": [
    {
     "name": "stdout",
     "output_type": "stream",
     "text": [
      "[[0.804 0.552 0.221 0.032]\n",
      " [0.828 0.507 0.237 0.034]\n",
      " [0.805 0.548 0.223 0.034]\n",
      " [0.8   0.539 0.261 0.035]\n",
      " [0.791 0.569 0.221 0.032]]\n"
     ]
    }
   ],
   "source": [
    "# Normalize data (length of 1)\n",
    "from sklearn.preprocessing import Normalizer\n",
    "from pandas import read_csv\n",
    "from numpy import set_printoptions\n",
    "url = \"http://archive.ics.uci.edu/ml/machine-learning-databases/iris/iris.data\"\n",
    "names = ['Min', 'Max', 'Mean', 'SD', 'Class Correlation']\n",
    "data = read_csv(url, names=names)\n",
    "array = data.values\n",
    "# Separate data into input and output components\n",
    "X = array[: ,0:4]\n",
    "Y = array[: ,4]\n",
    "scaler = Normalizer().fit(X)\n",
    "normalized_X = scaler.transform(X)\n",
    "# Summarize transformed data\n",
    "set_printoptions(precision=3)\n",
    "print(normalized_X[0:5,:])"
   ]
  },
  {
   "cell_type": "markdown",
   "metadata": {},
   "source": [
    "# Binarize Data"
   ]
  },
  {
   "cell_type": "code",
   "execution_count": 27,
   "metadata": {},
   "outputs": [
    {
     "name": "stdout",
     "output_type": "stream",
     "text": [
      "[[1. 1. 1. 1.]\n",
      " [1. 1. 1. 1.]\n",
      " [1. 1. 1. 1.]\n",
      " [1. 1. 1. 1.]\n",
      " [1. 1. 1. 1.]]\n"
     ]
    }
   ],
   "source": [
    "# Binarization Data\n",
    "from sklearn.preprocessing import Binarizer\n",
    "from pandas import read_csv\n",
    "from numpy import set_printoptions\n",
    "url = \"http://archive.ics.uci.edu/ml/machine-learning-databases/iris/iris.data\"\n",
    "names = ['Min', 'Max', 'Mean', 'SD', 'Class Correlation']\n",
    "data = read_csv(url, names=names)\n",
    "array = data.values\n",
    "# Separate data into input and output components\n",
    "X = array[: ,0:4]\n",
    "Y = array[: ,4]\n",
    "binarizer = Binarizer(threshold=0.0).fit(X)\n",
    "binary_X = binarizer.transform(X)\n",
    "# Summarize transformed data\n",
    "set_printoptions(precision=3)\n",
    "print(binary_X[0:5,:])"
   ]
  },
  {
   "cell_type": "markdown",
   "metadata": {},
   "source": [
    "# Intro to Matplotlib"
   ]
  },
  {
   "cell_type": "code",
   "execution_count": 4,
   "metadata": {},
   "outputs": [
    {
     "data": {
      "image/png": "[encoded data removed]",
      "text/plain": [
       "<matplotlib.figure.Figure at 0x7faaa8e76fd0>"
      ]
     },
     "metadata": {},
     "output_type": "display_data"
    }
   ],
   "source": [
    "%matplotlib inline\n",
    "\n",
    "# Importing pyplot\n",
    "from matplotlib import pyplot as plt\n",
    "\n",
    "# Plotting to our canvas\n",
    "x = [1, 2, 3]\n",
    "y = [4, 5, 1]\n",
    "plt.plot(x, y)\n",
    "\n",
    "# Some typical naming\n",
    "plt.title('Epic Info')\n",
    "plt.xlabel('X - Axis')\n",
    "plt.ylabel('Y - Axis')\n",
    "\n",
    "# Displaying the plot\n",
    "plt.show()"
   ]
  },
  {
   "cell_type": "markdown",
   "metadata": {},
   "source": [
    "# Using styles with matplotlib - making line diagrams of data"
   ]
  },
  {
   "cell_type": "code",
   "execution_count": 14,
   "metadata": {},
   "outputs": [
    {
     "data": {
      "image/png": "[encoded data removed]",
      "text/plain": [
       "<matplotlib.figure.Figure at 0x7faaa8c123d0>"
      ]
     },
     "metadata": {},
     "output_type": "display_data"
    }
   ],
   "source": [
    "%matplotlib inline\n",
    "\n",
    "from matplotlib import pyplot as plt\n",
    "\n",
    "plt.style.use('ggplot')\n",
    "\n",
    "x = [5,8,10]\n",
    "y = [12,16,6]\n",
    "\n",
    "x2 = [6,9,11]\n",
    "y2 = [6,15,7]\n",
    "\n",
    "# Can plot specifically after just showing the defaults:\n",
    "plt.plot(x, y, 'g', label='line one', linewidth=5)\n",
    "plt.plot(x2, y2, 'c', label='line two', linewidth=5)\n",
    "\n",
    "plt.title('Epic Info')\n",
    "plt.xlabel('X - Axis')\n",
    "plt.ylabel('Y - Axis')\n",
    "\n",
    "plt.legend()\n",
    "plt.grid(True, color='k')\n",
    "\n",
    "plt.show()"
   ]
  },
  {
   "cell_type": "markdown",
   "metadata": {},
   "source": [
    "# Some more styling - bar diagram"
   ]
  },
  {
   "cell_type": "code",
   "execution_count": null,
   "metadata": {},
   "outputs": [],
   "source": [
    "%matplotlib inline\n",
    "\n",
    "from matplotlib import pyplot as plt\n",
    "\n",
    "plt.style.use('ggplot')\n",
    "\n",
    "x = [5,8,10]\n",
    "y = [12,16,6]\n",
    "\n",
    "x2 = [6,9,11]\n",
    "y2 = [6,15,7]\n",
    "\n",
    "plt.bar(x, y, align='center')\n",
    "plt.bar(x2, y2, color='g', align='center')\n",
    "\n",
    "plt.title('Epic Info')\n",
    "plt.ylabel('Y axis')\n",
    "plt.xlabel('X axis')\n",
    "\n",
    "plt.grid(True, color='k')\n",
    "\n",
    "plt.show()"
   ]
  },
  {
   "cell_type": "markdown",
   "metadata": {},
   "source": [
    "# Scatter Diagram"
   ]
  },
  {
   "cell_type": "code",
   "execution_count": 20,
   "metadata": {},
   "outputs": [
    {
     "data": {
      "image/png": "[encoded data removed]",
      "text/plain": [
       "<matplotlib.figure.Figure at 0x7faaa8b21990>"
      ]
     },
     "metadata": {},
     "output_type": "display_data"
    }
   ],
   "source": [
    "%matplotlib inline\n",
    "\n",
    "from matplotlib import pyplot as plt\n",
    "\n",
    "plt.style.use('ggplot')\n",
    "\n",
    "x = [5,8,10]\n",
    "y = [12,16,6]\n",
    "\n",
    "x2 = [6,9,11]\n",
    "y2 = [6,15,7]\n",
    "\n",
    "# Scatter Diagram\n",
    "plt.scatter(x, y)#, align='center')\n",
    "plt.scatter(x2, y2, color='g')#, align='center')\n",
    "\n",
    "plt.title('Epic Info')\n",
    "plt.ylabel('Y axis')\n",
    "plt.xlabel('X axis')\n",
    "\n",
    "plt.show()"
   ]
  },
  {
   "cell_type": "markdown",
   "metadata": {},
   "source": [
    "# Histogram"
   ]
  },
  {
   "cell_type": "code",
   "execution_count": 23,
   "metadata": {},
   "outputs": [
    {
     "data": {
      "image/png": "[encoded data removed]",
      "text/plain": [
       "<matplotlib.figure.Figure at 0x7faaa8ab8a90>"
      ]
     },
     "metadata": {},
     "output_type": "display_data"
    }
   ],
   "source": [
    "%matplotlib inline\n",
    "\n",
    "import matplotlib.pyplot as plt\n",
    "\n",
    "population_ages = [22,55,62,45,21,22,34,42,42,4,99,102,110,120,121,122,130,111,115,112,80,75,65,54,44,43,42,48]\n",
    "\n",
    "bins = [0,10,20,30,40,50,60,70,80,90,100,110,120,130]\n",
    "\n",
    "plt.hist(population_ages, bins, histtype='bar', rwidth=0.8)\n",
    "\n",
    "plt.xlabel('X - Axis')\n",
    "plt.ylabel('Y - Axis')\n",
    "plt.title('Interesting Graph\\nCheck it out')\n",
    "plt.legend()\n",
    "plt.show()"
   ]
  },
  {
   "cell_type": "markdown",
   "metadata": {},
   "source": [
    "# Another Scatter Plot Example"
   ]
  },
  {
   "cell_type": "code",
   "execution_count": 24,
   "metadata": {},
   "outputs": [
    {
     "data": {
      "image/png": "[encoded data removed]",
      "text/plain": [
       "<matplotlib.figure.Figure at 0x7faaa8ab0710>"
      ]
     },
     "metadata": {},
     "output_type": "display_data"
    }
   ],
   "source": [
    "%matplotlib inline\n",
    "\n",
    "import matplotlib.pyplot as plt\n",
    "\n",
    "x = [1,2,3,4,5,6,7,8]\n",
    "y = [5,2,4,2,1,4,5,2]\n",
    "\n",
    "plt.scatter(x,y, label='skitscat', color='k', s=25, marker=\"o\")\n",
    "\n",
    "plt.xlabel('x')\n",
    "plt.ylabel('y')\n",
    "plt.title('Interesting Graph\\nCheck it out')\n",
    "plt.legend()\n",
    "plt.show()"
   ]
  },
  {
   "cell_type": "markdown",
   "metadata": {},
   "source": [
    "# Stack Plots (new)"
   ]
  },
  {
   "cell_type": "code",
   "execution_count": 26,
   "metadata": {},
   "outputs": [
    {
     "data": {
      "image/png": "[encoded data removed]",
      "text/plain": [
       "<matplotlib.figure.Figure at 0x7faaa8a59d90>"
      ]
     },
     "metadata": {},
     "output_type": "display_data"
    }
   ],
   "source": [
    "import matplotlib.pyplot as plt\n",
    "\n",
    "days = [1,2,3,4,5]\n",
    "\n",
    "sleeping = [7,8,6,11,7]\n",
    "eating =   [2,3,4,3,2]\n",
    "working =  [7,8,7,2,2]\n",
    "playing =  [8,5,7,8,13]\n",
    "\n",
    "plt.plot([], [], color = 'm', label = 'Sleeping', linewidth = 5)\n",
    "plt.plot([], [], color = 'c', label = 'Eating', linewidth = 5)\n",
    "plt.plot([], [], color = 'r', label = 'Working', linewidth = 5)\n",
    "plt.plot([], [], color = 'k', label = 'Playing', linewidth = 5)\n",
    "\n",
    "plt.stackplot(days, sleeping, eating, working, playing, colors = ['m', 'c', 'r', 'k'])\n",
    "plt.xlabel('X - Axis')\n",
    "plt.ylabel('Y - Axis')\n",
    "plt.title('Interesting Graph\\nCheck it out')\n",
    "plt.legend()\n",
    "plt.show()"
   ]
  },
  {
   "cell_type": "markdown",
   "metadata": {},
   "source": [
    "# Pie Charts in Matplotlib"
   ]
  },
  {
   "cell_type": "code",
   "execution_count": 33,
   "metadata": {},
   "outputs": [
    {
     "data": {
      "image/png": "[encoded data removed]",
      "text/plain": [
       "<matplotlib.figure.Figure at 0x7faaa8a61690>"
      ]
     },
     "metadata": {},
     "output_type": "display_data"
    }
   ],
   "source": [
    "import matplotlib.pyplot as plt\n",
    "\n",
    "slices = [7,2,2,13]\n",
    "activities = ['sleeping','eating','working','playing']\n",
    "cols = ['c','m','r','b']\n",
    "\n",
    "plt.pie(slices,\n",
    "        labels=activities,\n",
    "        colors=cols,\n",
    "        startangle=90,\n",
    "        shadow= True,\n",
    "        explode=(0, 0.1, 0, 0),\n",
    "        autopct='%1.1f%%')\n",
    "\n",
    "plt.title('Interesting Graph\\nCheck it out')\n",
    "plt.show()"
   ]
  },
  {
   "cell_type": "markdown",
   "metadata": {},
   "source": [
    "# Reading a CSV file using numpy loadtxt"
   ]
  },
  {
   "cell_type": "code",
   "execution_count": 21,
   "metadata": {},
   "outputs": [
    {
     "data": {
      "image/png": "[encoded data removed]",
      "text/plain": [
       "<matplotlib.figure.Figure at 0x7faaa8da3c90>"
      ]
     },
     "metadata": {},
     "output_type": "display_data"
    }
   ],
   "source": [
    "from matplotlib import pyplot as plt\n",
    "import numpy as np\n",
    "\n",
    "plt.style.use('ggplot')\n",
    "\n",
    "x, y = np.loadtxt('exampleFile.csv', unpack = True, delimiter = ',')\n",
    "\n",
    "plt.plot(x, y)\n",
    "\n",
    "plt.title('Epic Info')\n",
    "plt.xlabel('X - Axis')\n",
    "plt.ylabel('Y - Axis')\n",
    "\n",
    "plt.show()"
   ]
  }
 ],
 "metadata": {
  "kernelspec": {
   "display_name": "Python 2",
   "language": "python",
   "name": "python2"
  },
  "language_info": {
   "codemirror_mode": {
    "name": "ipython",
    "version": 2
   },
   "file_extension": ".py",
   "mimetype": "text/x-python",
   "name": "python",
   "nbconvert_exporter": "python",
   "pygments_lexer": "ipython2",
   "version": "2.7.12"
  }
 },
 "nbformat": 4,
 "nbformat_minor": 2
}
